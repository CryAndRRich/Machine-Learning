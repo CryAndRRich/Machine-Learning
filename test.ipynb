{
 "cells": [
  {
   "cell_type": "code", 
   "execution_count": 1,
   "metadata": {},      
   "outputs": [],       
   "source": [
    "import os"
   ]
  },
  {
   "cell_type": "markdown",
   "metadata": {},
   "source": [
    "### **Linear Regression**"
   ]
  },
  {
   "cell_type": "code",
   "execution_count": 2,
   "metadata": {},
   "outputs": [],
   "source": [
    "import linear_regression\n",
    "\n",
    "linear_path = os.path.join('custom_data', 'linear_regression_data.csv')\n",
    "data = linear_regression.LinearRegressionData(linear_path)\n",
    "\n",
    "LEARN_RATE, BATCH_SIZE, NUMBER_OF_EPOCHS = data.get_parameters()"
   ]
  },
  {
   "cell_type": "code",
   "execution_count": 3,
   "metadata": {},
   "outputs": [
    {
     "name": "stdout",
     "output_type": "stream",
     "text": [
      "Epoch:    0/1000 Weight: 0.737, Bias: 0.015 Cost: 1484.586557\n",
      "Epoch:  100/1000 Weight: 1.479, Bias: 0.035 Cost: 112.647021\n",
      "Epoch:  200/1000 Weight: 1.479, Bias: 0.041 Cost: 112.643416\n",
      "Epoch:  300/1000 Weight: 1.479, Bias: 0.047 Cost: 112.639817\n",
      "Epoch:  400/1000 Weight: 1.478, Bias: 0.053 Cost: 112.636223\n",
      "Epoch:  500/1000 Weight: 1.478, Bias: 0.059 Cost: 112.632635\n",
      "Epoch:  600/1000 Weight: 1.478, Bias: 0.065 Cost: 112.629052\n",
      "Epoch:  700/1000 Weight: 1.478, Bias: 0.071 Cost: 112.625475\n",
      "Epoch:  800/1000 Weight: 1.478, Bias: 0.077 Cost: 112.621903\n",
      "Epoch:  900/1000 Weight: 1.478, Bias: 0.083 Cost: 112.618336\n",
      "Epoch: 1000/1000 Weight: 1.478, Bias: 0.089 Cost: 112.614775\n"
     ]
    }
   ],
   "source": [
    "X_NUMPY_TRAIN, Y_NUMPY_TRAIN = data.get_numpy_data()\n",
    "linear_regression.train_model_scratch(X_NUMPY_TRAIN, Y_NUMPY_TRAIN, LEARN_RATE, BATCH_SIZE, NUMBER_OF_EPOCHS)"
   ]
  },
  {
   "cell_type": "code",
   "execution_count": 4,
   "metadata": {},
   "outputs": [
    {
     "name": "stdout",
     "output_type": "stream",
     "text": [
      "Epoch:    0/1000 Weight: 0.318, Bias: 0.005 Cost: 13473.922852\n",
      "Epoch:  100/1000 Weight: 1.479, Bias: 0.034 Cost: 112.647820\n",
      "Epoch:  200/1000 Weight: 1.479, Bias: 0.040 Cost: 112.644218\n",
      "Epoch:  300/1000 Weight: 1.479, Bias: 0.046 Cost: 112.640617\n",
      "Epoch:  400/1000 Weight: 1.478, Bias: 0.052 Cost: 112.637032\n",
      "Epoch:  500/1000 Weight: 1.478, Bias: 0.058 Cost: 112.633446\n",
      "Epoch:  600/1000 Weight: 1.478, Bias: 0.064 Cost: 112.629852\n",
      "Epoch:  700/1000 Weight: 1.478, Bias: 0.070 Cost: 112.626282\n",
      "Epoch:  800/1000 Weight: 1.478, Bias: 0.076 Cost: 112.622696\n",
      "Epoch:  900/1000 Weight: 1.478, Bias: 0.082 Cost: 112.619133\n",
      "Epoch: 1000/1000 Weight: 1.478, Bias: 0.088 Cost: 112.615585\n"
     ]
    }
   ],
   "source": [
    "X_TENSOR_TRAIN, Y_TENSOR_TRAIN = data.get_tensor_data()\n",
    "linear_regression.train_model_pytorch(X_TENSOR_TRAIN, Y_TENSOR_TRAIN, LEARN_RATE, NUMBER_OF_EPOCHS)"
   ]
  },
  {
   "cell_type": "markdown",
   "metadata": {},
   "source": [
    "### **Logistic Regression**"
   ]
  },
  {
   "cell_type": "code",
   "execution_count": 5,
   "metadata": {},
   "outputs": [],
   "source": [
    "import logistic_regression\n",
    "\n",
    "logistic_path = os.path.join('custom_data', 'logistic_regression_data.csv')\n",
    "data = logistic_regression.LogisticRegressionData(logistic_path)\n",
    "\n",
    "LEARN_RATE, NUMBER_OF_EPOCHS = data.get_parameters()"
   ]
  },
  {
   "cell_type": "code",
   "execution_count": 6,
   "metadata": {},
   "outputs": [
    {
     "name": "stdout",
     "output_type": "stream",
     "text": [
      "Epoch:    0/1000 Cost: 0.693017 Accuracy: 63.00%\n",
      "Epoch:  100/1000 Cost: 0.681011 Accuracy: 64.00%\n",
      "Epoch:  200/1000 Cost: 0.670672 Accuracy: 67.00%\n",
      "Epoch:  300/1000 Cost: 0.661693 Accuracy: 68.00%\n",
      "Epoch:  400/1000 Cost: 0.653824 Accuracy: 76.00%\n",
      "Epoch:  500/1000 Cost: 0.646861 Accuracy: 79.00%\n",
      "Epoch:  600/1000 Cost: 0.640637 Accuracy: 84.00%\n",
      "Epoch:  700/1000 Cost: 0.635020 Accuracy: 84.00%\n",
      "Epoch:  800/1000 Cost: 0.629901 Accuracy: 85.00%\n",
      "Epoch:  900/1000 Cost: 0.625193 Accuracy: 87.00%\n",
      "Epoch: 1000/1000 Cost: 0.620824 Accuracy: 89.00%\n"
     ]
    }
   ],
   "source": [
    "X_NUMPY_TRAIN, X_NUMPY_TEST, Y_NUMPY_TRAIN, Y_NUMPY_TEST = data.get_numpy_data()\n",
    "logistic_regression.train_model_scratch(X_NUMPY_TRAIN, Y_NUMPY_TRAIN, X_NUMPY_TEST, Y_NUMPY_TEST, LEARN_RATE, NUMBER_OF_EPOCHS)"
   ]
  },
  {
   "cell_type": "code",
   "execution_count": 7,
   "metadata": {},
   "outputs": [
    {
     "name": "stdout",
     "output_type": "stream",
     "text": [
      "Epoch:    0/1000 Cost: 0.790440 Accuracy: 46.00%\n",
      "Epoch:  100/1000 Cost: 0.759779 Accuracy: 46.00%\n",
      "Epoch:  200/1000 Cost: 0.733992 Accuracy: 46.00%\n",
      "Epoch:  300/1000 Cost: 0.712321 Accuracy: 46.00%\n",
      "Epoch:  400/1000 Cost: 0.694082 Accuracy: 46.00%\n",
      "Epoch:  500/1000 Cost: 0.678679 Accuracy: 53.00%\n",
      "Epoch:  600/1000 Cost: 0.665603 Accuracy: 97.00%\n",
      "Epoch:  700/1000 Cost: 0.654429 Accuracy: 94.00%\n",
      "Epoch:  800/1000 Cost: 0.644806 Accuracy: 86.00%\n",
      "Epoch:  900/1000 Cost: 0.636447 Accuracy: 82.00%\n",
      "Epoch: 1000/1000 Cost: 0.629117 Accuracy: 81.00%\n"
     ]
    }
   ],
   "source": [
    "X_TENSOR_TRAIN, X_TENSOR_TEST, Y_TENSOR_TRAIN, Y_TENSOR_TEST = data.get_tensor_data()\n",
    "logistic_regression.train_model_pytorch(X_TENSOR_TRAIN, Y_TENSOR_TRAIN, X_TENSOR_TEST, Y_TENSOR_TEST, LEARN_RATE, NUMBER_OF_EPOCHS)"
   ]
  },
  {
   "cell_type": "markdown",
   "metadata": {},
   "source": [
    "### **Polynomial Regression**"
   ]
  },
  {
   "cell_type": "code",
   "execution_count": 8,
   "metadata": {},
   "outputs": [],
   "source": [
    "import polynomial_regression\n",
    "\n",
    "polynomial_path = os.path.join('custom_data', 'polynomial_regression_data.csv')\n",
    "data = polynomial_regression.PolynomialRegressionData(polynomial_path)\n",
    "\n",
    "LEARN_RATE, BATCH_SIZE, NUMBER_OF_EPOCHS = data.get_parameters()"
   ]
  },
  {
   "cell_type": "code",
   "execution_count": 9,
   "metadata": {},
   "outputs": [
    {
     "name": "stdout",
     "output_type": "stream",
     "text": [
      "Epoch:    0/100000 Cost: 79959.385898\n",
      "x0=-0.002 x1:-0.006 x2:-0.015 x3:-0.040 x4:-0.107 x5:-0.292 x6:-0.802 \n",
      "Epoch: 10000/100000 Cost: 60.778004\n",
      "x0=-0.033 x1:-1.056 x2:-1.599 x3:-3.432 x4:-5.399 x5:-6.986 x6:0.977 \n",
      "Epoch: 20000/100000 Cost: 52.438375\n",
      "x0=0.462 x1:-1.073 x2:-1.308 x3:-3.455 x4:-5.294 x5:-7.244 x6:1.051 \n",
      "Epoch: 30000/100000 Cost: 45.587121\n",
      "x0=0.916 x1:-1.096 x2:-1.035 x3:-3.469 x4:-5.167 x5:-7.448 x6:1.103 \n",
      "Epoch: 40000/100000 Cost: 39.849455\n",
      "x0=1.332 x1:-1.130 x2:-0.787 x3:-3.491 x4:-5.047 x5:-7.631 x6:1.149 \n",
      "Epoch: 50000/100000 Cost: 35.026474\n",
      "x0=1.713 x1:-1.171 x2:-0.560 x3:-3.519 x4:-4.932 x5:-7.796 x6:1.190 \n",
      "Epoch: 60000/100000 Cost: 30.956298\n",
      "x0=2.062 x1:-1.221 x2:-0.354 x3:-3.553 x4:-4.823 x5:-7.945 x6:1.226 \n",
      "Epoch: 70000/100000 Cost: 27.507064\n",
      "x0=2.382 x1:-1.276 x2:-0.166 x3:-3.592 x4:-4.719 x5:-8.079 x6:1.259 \n",
      "Epoch: 80000/100000 Cost: 24.571244\n",
      "x0=2.676 x1:-1.336 x2:0.006 x3:-3.635 x4:-4.619 x5:-8.200 x6:1.288 \n",
      "Epoch: 90000/100000 Cost: 22.061055\n",
      "x0=2.946 x1:-1.401 x2:0.163 x3:-3.682 x4:-4.524 x5:-8.309 x6:1.314 \n",
      "Epoch: 100000/100000 Cost: 19.904745\n",
      "x0=3.194 x1:-1.468 x2:0.307 x3:-3.731 x4:-4.433 x5:-8.407 x6:1.338 \n"
     ]
    }
   ],
   "source": [
    "X_NUMPY_TRAIN, Y_NUMPY_TRAIN = data.get_numpy_data()\n",
    "polynomial_regression.train_model_scratch(X_NUMPY_TRAIN, Y_NUMPY_TRAIN, LEARN_RATE, BATCH_SIZE, NUMBER_OF_EPOCHS, 6)"
   ]
  },
  {
   "cell_type": "code",
   "execution_count": 10,
   "metadata": {},
   "outputs": [
    {
     "name": "stdout",
     "output_type": "stream",
     "text": [
      "Epoch:    0/100000 Cost: 437880.156250\n",
      "x0=0.075 x1=0.474 x2=0.359 x3=0.269 x4=0.565 x5=0.016 x6=-1.662 \n",
      "Epoch: 10000/100000 Cost: 0.887714\n",
      "x0=5.672 x1=-4.050 x2=2.928 x3=-7.440 x4=-0.409 x5=-10.340 x6=1.650 \n",
      "Epoch: 20000/100000 Cost: 0.559205\n",
      "x0=5.516 x1=-3.133 x2=2.704 x3=-8.593 x4=0.553 x5=-10.606 x6=1.673 \n",
      "Epoch: 30000/100000 Cost: 0.378726\n",
      "x0=5.489 x1=-2.424 x2=2.355 x3=-9.377 x4=1.272 x5=-10.805 x6=1.690 \n",
      "Epoch: 40000/100000 Cost: 0.270562\n",
      "x0=5.492 x1=-1.908 x2=1.993 x3=-9.910 x4=1.870 x5=-10.999 x6=1.710 \n",
      "Epoch: 50000/100000 Cost: 0.200984\n",
      "x0=5.511 x1=-1.528 x2=1.635 x3=-10.272 x4=2.375 x5=-11.185 x6=1.732 \n",
      "Epoch: 60000/100000 Cost: 0.153301\n",
      "x0=5.540 x1=-1.245 x2=1.293 x3=-10.517 x4=2.806 x5=-11.361 x6=1.755 \n",
      "Epoch: 70000/100000 Cost: 0.118934\n",
      "x0=5.573 x1=-1.029 x2=0.972 x3=-10.683 x4=3.178 x5=-11.524 x6=1.777 \n",
      "Epoch: 80000/100000 Cost: 0.093249\n",
      "x0=5.607 x1=-0.863 x2=0.676 x3=-10.795 x4=3.501 x5=-11.674 x6=1.798 \n",
      "Epoch: 90000/100000 Cost: 0.073582\n",
      "x0=5.642 x1=-0.732 x2=0.404 x3=-10.870 x4=3.783 x5=-11.810 x6=1.818 \n",
      "Epoch: 100000/100000 Cost: 0.058285\n",
      "x0=5.675 x1=-0.628 x2=0.156 x3=-10.920 x4=4.030 x5=-11.934 x6=1.836 \n"
     ]
    }
   ],
   "source": [
    "X_TENSOR_TRAIN, Y_TENSOR_TRAIN = data.get_tensor_data()\n",
    "polynomial_regression.train_model_pytorch(X_TENSOR_TRAIN, Y_TENSOR_TRAIN, LEARN_RATE, NUMBER_OF_EPOCHS, 6)"
   ]
  },
  {
   "cell_type": "markdown",
   "metadata": {},
   "source": [
    "### **K Means Clustering**"
   ]
  },
  {
   "cell_type": "code",
   "execution_count": 11,
   "metadata": {},
   "outputs": [
    {
     "name": "stdout",
     "output_type": "stream",
     "text": [
      "Stop at epoch: 16/100\n",
      "Centroids found:\n",
      "c1 = (1.228, 9.181)\n",
      "c2 = (1.400, 1.664)\n",
      "c3 = (7.614, 2.928)\n",
      "c4 = (14.978, 4.850)\n",
      "Correctly Labeled: 918/1000 Accuracy: 91.8%\n"
     ]
    }
   ],
   "source": [
    "import k_means_clustering\n",
    "\n",
    "k_means_path = os.path.join('custom_data', 'k_means_data.csv')\n",
    "data = k_means_clustering.KMeansData(k_means_path)\n",
    "\n",
    "MAX_NUMBER_OF_EPOCHS = data.get_parameters()\n",
    "TENSOR_TRAIN, TENSOR_LABEL = data.get_tensor_data()\n",
    "\n",
    "k_means_clustering.train_model(TENSOR_TRAIN, TENSOR_LABEL, 4, MAX_NUMBER_OF_EPOCHS)"
   ]
  },
  {
   "cell_type": "markdown",
   "metadata": {},
   "source": [
    "### **K Nearest Neighbors**"
   ]
  },
  {
   "cell_type": "code",
   "execution_count": 12,
   "metadata": {},
   "outputs": [
    {
     "name": "stdout",
     "output_type": "stream",
     "text": [
      "KNN: 0 Accuracy: 35.0%\n",
      "KNN: 5 Accuracy: 78.75%\n",
      "KNN: 10 Accuracy: 80.0%\n",
      "KNN: 15 Accuracy: 76.25%\n",
      "KNN: 20 Accuracy: 76.25%\n"
     ]
    }
   ],
   "source": [
    "import k_nearest_neighbors\n",
    "\n",
    "k_nearest_path = os.path.join('custom_data', 'k_nearest_neighbors_data.csv')\n",
    "data = k_nearest_neighbors.KNearestData(k_nearest_path)\n",
    "\n",
    "X_TENSOR_TRAIN, X_TENSOR_TEST, Y_TENSOR_TRAIN, Y_TENSOR_TEST = data.get_tensor_data()\n",
    "\n",
    "k_nearest_neighbors.train_model(X_TENSOR_TRAIN, Y_TENSOR_TRAIN, X_TENSOR_TEST, Y_TENSOR_TEST, 20)"
   ]
  },
  {
   "cell_type": "markdown",
   "metadata": {},
   "source": [
    "### **Perceptron Learning**"
   ]
  },
  {
   "cell_type": "code",
   "execution_count": 13,
   "metadata": {},
   "outputs": [],
   "source": [
    "import perceptron_learning\n",
    "\n",
    "perceptron_path = os.path.join('custom_data', 'perceptron_data.csv')\n",
    "data = perceptron_learning.PerceptronData(perceptron_path)\n",
    "\n",
    "LEARN_RATE, NUMBER_OF_EPOCHS = data.get_parameters()"
   ]
  },
  {
   "cell_type": "code",
   "execution_count": 14,
   "metadata": {},
   "outputs": [
    {
     "name": "stdout",
     "output_type": "stream",
     "text": [
      "Epoch:  0/12 Weight: [[-0.02520153  0.82825459]] Bias: [0.0036] Cost: 36.000000 Accuracy: 96.50%\n",
      "Epoch:  1/12 Weight: [[-0.2249169   1.35654196]] Bias: [0.0037] Cost: 1.000000 Accuracy: 97.00%\n",
      "Epoch:  2/12 Weight: [[-0.42775869  1.88439272]] Bias: [0.0033] Cost: -4.000000 Accuracy: 98.00%\n",
      "Epoch:  3/12 Weight: [[-0.63171055  2.41198731]] Bias: [0.0028] Cost: -5.000000 Accuracy: 98.00%\n",
      "Epoch:  4/12 Weight: [[-0.83652852  2.93935367]] Bias: [0.0022] Cost: -6.000000 Accuracy: 98.00%\n",
      "Epoch:  5/12 Weight: [[-1.042161    3.46649848]] Bias: [0.0015] Cost: -7.000000 Accuracy: 98.00%\n",
      "Epoch:  6/12 Weight: [[-1.24868719  3.99337867]] Bias: [0.0006] Cost: -9.000000 Accuracy: 98.00%\n",
      "Epoch:  7/12 Weight: [[-1.45521338  4.52025886]] Bias: [-0.0003] Cost: -9.000000 Accuracy: 98.50%\n",
      "Epoch:  8/12 Weight: [[-1.66173957  5.04713906]] Bias: [-0.0012] Cost: -9.000000 Accuracy: 98.50%\n",
      "Epoch:  9/12 Weight: [[-1.86826576  5.57401925]] Bias: [-0.0021] Cost: -9.000000 Accuracy: 98.50%\n",
      "Epoch: 10/12 Weight: [[-2.07479195  6.10089944]] Bias: [-0.0030] Cost: -9.000000 Accuracy: 98.50%\n",
      "Epoch: 11/12 Weight: [[-2.28131813  6.62777963]] Bias: [-0.0039] Cost: -9.000000 Accuracy: 98.50%\n",
      "Epoch: 12/12 Weight: [[-2.48784432  7.15465982]] Bias: [-0.0048] Cost: -9.000000 Accuracy: 98.50%\n"
     ]
    }
   ],
   "source": [
    "X_NUMPY_TRAIN, X_NUMPY_TEST, Y_NUMPY_TRAIN, Y_NUMPY_TEST = data.get_numpy_data()\n",
    "perceptron_learning.train_model_scratch(X_NUMPY_TRAIN, Y_NUMPY_TRAIN, X_NUMPY_TEST, Y_NUMPY_TEST, LEARN_RATE, NUMBER_OF_EPOCHS)"
   ]
  },
  {
   "cell_type": "code",
   "execution_count": 15,
   "metadata": {},
   "outputs": [
    {
     "name": "stdout",
     "output_type": "stream",
     "text": [
      "Epoch:  0/12 Weight: [[-0.35676754 -0.2095966 ]] Bias: [-0.10746343] Cost: -293.000000 Accuracy: 60.00%\n",
      "Epoch:  1/12 Weight: [[-0.18821709 -0.2890749 ]] Bias: [-0.08286302] Cost: -246.000000 Accuracy: 79.00%\n",
      "Epoch:  2/12 Weight: [[-0.09579765 -0.30841303]] Bias: [-0.0698628] Cost: -130.000000 Accuracy: 90.00%\n",
      "Epoch:  3/12 Weight: [[-0.04967649 -0.30908635]] Bias: [-0.06306268] Cost: -68.000000 Accuracy: 93.00%\n",
      "Epoch:  4/12 Weight: [[-0.02058053 -0.30615473]] Bias: [-0.05856261] Cost: -45.000000 Accuracy: 94.00%\n",
      "Epoch:  5/12 Weight: [[ 0.00095459 -0.3024336 ]] Bias: [-0.05506255] Cost: -35.000000 Accuracy: 95.50%\n",
      "Epoch:  6/12 Weight: [[ 0.01764179 -0.29860637]] Bias: [-0.0523625] Cost: -27.000000 Accuracy: 96.50%\n",
      "Epoch:  7/12 Weight: [[ 0.02979394 -0.2949052 ]] Bias: [-0.05036247] Cost: -20.000000 Accuracy: 96.50%\n",
      "Epoch:  8/12 Weight: [[ 0.04064906 -0.29131925]] Bias: [-0.04856244] Cost: -18.000000 Accuracy: 96.50%\n",
      "Epoch:  9/12 Weight: [[ 0.05018048 -0.28788003]] Bias: [-0.04696241] Cost: -16.000000 Accuracy: 97.00%\n",
      "Epoch: 10/12 Weight: [[ 0.05870427 -0.2845951 ]] Bias: [-0.04556239] Cost: -14.000000 Accuracy: 97.00%\n",
      "Epoch: 11/12 Weight: [[ 0.06597086 -0.28151742]] Bias: [-0.04436237] Cost: -12.000000 Accuracy: 98.00%\n",
      "Epoch: 12/12 Weight: [[ 0.07204618 -0.27873152]] Bias: [-0.04316235] Cost: -12.000000 Accuracy: 98.00%\n"
     ]
    }
   ],
   "source": [
    "X_TENSOR_TRAIN, X_TENSOR_TEST, Y_TENSOR_TRAIN, Y_TENSOR_TEST = data.get_tensor_data()\n",
    "perceptron_learning.train_model_pytorch(X_TENSOR_TRAIN, Y_TENSOR_TRAIN, X_TENSOR_TEST, Y_TENSOR_TEST, LEARN_RATE, NUMBER_OF_EPOCHS)"
   ]
  },
  {
   "cell_type": "markdown",
   "metadata": {},
   "source": [
    "### **Softmax Regression**"
   ]
  },
  {
   "cell_type": "code",
   "execution_count": 16,
   "metadata": {},
   "outputs": [],
   "source": [
    "import softmax_regression\n",
    "\n",
    "softmax_path = os.path.join('custom_data', 'softmax_regression_data.csv')\n",
    "data = softmax_regression.SoftmaxRegressionData(softmax_path)\n",
    "\n",
    "LEARN_RATE, NUMBER_OF_EPOCHS, NUMBER_OF_CLASSES = data.get_parameters()"
   ]
  },
  {
   "cell_type": "code",
   "execution_count": 17,
   "metadata": {},
   "outputs": [
    {
     "name": "stdout",
     "output_type": "stream",
     "text": [
      "Epoch:    0/1000 Cost: 1.562580 Accuracy: 52.40%\n",
      "Epoch:  100/1000 Cost: 0.948598 Accuracy: 54.50%\n",
      "Epoch:  200/1000 Cost: 0.642350 Accuracy: 85.00%\n",
      "Epoch:  300/1000 Cost: 0.490276 Accuracy: 93.00%\n",
      "Epoch:  400/1000 Cost: 0.402064 Accuracy: 97.50%\n",
      "Epoch:  500/1000 Cost: 0.342302 Accuracy: 98.80%\n",
      "Epoch:  600/1000 Cost: 0.298409 Accuracy: 99.70%\n",
      "Epoch:  700/1000 Cost: 0.264690 Accuracy: 99.90%\n",
      "Epoch:  800/1000 Cost: 0.237992 Accuracy: 99.90%\n",
      "Epoch:  900/1000 Cost: 0.216365 Accuracy: 100.00%\n",
      "Epoch: 1000/1000 Cost: 0.198526 Accuracy: 100.00%\n"
     ]
    }
   ],
   "source": [
    "X_NUMPY_TRAIN, X_NUMPY_TEST, Y_NUMPY_TRAIN, Y_NUMPY_TEST = data.get_numpy_data()\n",
    "softmax_regression.train_model_scratch(X_NUMPY_TRAIN, Y_NUMPY_TRAIN, X_NUMPY_TEST, Y_NUMPY_TEST, LEARN_RATE, NUMBER_OF_EPOCHS, NUMBER_OF_CLASSES)"
   ]
  },
  {
   "cell_type": "code",
   "execution_count": 18,
   "metadata": {},
   "outputs": [
    {
     "name": "stdout",
     "output_type": "stream",
     "text": [
      "Epoch:    0/1000 Cost: 2.392051 Accuracy: 28.80%\n",
      "Epoch:  100/1000 Cost: 1.131669 Accuracy: 39.90%\n",
      "Epoch:  200/1000 Cost: 0.663097 Accuracy: 55.60%\n",
      "Epoch:  300/1000 Cost: 0.450588 Accuracy: 86.80%\n",
      "Epoch:  400/1000 Cost: 0.341933 Accuracy: 96.30%\n",
      "Epoch:  500/1000 Cost: 0.279000 Accuracy: 98.40%\n",
      "Epoch:  600/1000 Cost: 0.238289 Accuracy: 99.30%\n",
      "Epoch:  700/1000 Cost: 0.209613 Accuracy: 99.50%\n",
      "Epoch:  800/1000 Cost: 0.188141 Accuracy: 99.80%\n",
      "Epoch:  900/1000 Cost: 0.171355 Accuracy: 99.90%\n",
      "Epoch: 1000/1000 Cost: 0.157813 Accuracy: 100.00%\n"
     ]
    }
   ],
   "source": [
    "X_TENSOR_TRAIN, X_TENSOR_TEST, Y_TENSOR_TRAIN, Y_TENSOR_TEST = data.get_tensor_data()\n",
    "softmax_regression.train_model_pytorch(X_TENSOR_TRAIN, Y_TENSOR_TRAIN, X_TENSOR_TEST, Y_TENSOR_TEST, LEARN_RATE, NUMBER_OF_EPOCHS, NUMBER_OF_CLASSES)"
   ]
  },
  {
   "cell_type": "markdown",
   "metadata": {},
   "source": [
    "### **SVM: Support Vector Machines**"
   ]
  },
  {
   "cell_type": "code",
   "execution_count": 19,
   "metadata": {},
   "outputs": [],
   "source": [
    "import support_vector_machines as svm\n",
    "\n",
    "svm_path = os.path.join('custom_data', 'svm_data.csv')\n",
    "data = svm.SVMData(svm_path)\n",
    "\n",
    "LEARN_RATE, NUMBER_OF_EPOCHS = data.get_parameters()"
   ]
  },
  {
   "cell_type": "code",
   "execution_count": 20,
   "metadata": {},
   "outputs": [
    {
     "name": "stdout",
     "output_type": "stream",
     "text": [
      "Epoch:    0/1000 Linear Cost: 2.3632 RBF Cost: 0.9991 Polynomial Cost: 0.4875 Sigmoid Cost: 0.8436\n",
      "Epoch:  100/1000 Linear Cost: 2.1215 RBF Cost: 0.9964 Polynomial Cost: 0.4875 Sigmoid Cost: 0.4915\n",
      "Epoch:  200/1000 Linear Cost: 1.8797 RBF Cost: 0.9938 Polynomial Cost: 0.4875 Sigmoid Cost: 0.4915\n",
      "Epoch:  300/1000 Linear Cost: 1.6380 RBF Cost: 0.9911 Polynomial Cost: 0.4875 Sigmoid Cost: 0.4915\n",
      "Epoch:  400/1000 Linear Cost: 1.3963 RBF Cost: 0.9884 Polynomial Cost: 0.4875 Sigmoid Cost: 0.4915\n",
      "Epoch:  500/1000 Linear Cost: 1.1547 RBF Cost: 0.9858 Polynomial Cost: 0.4875 Sigmoid Cost: 0.4915\n",
      "Epoch:  600/1000 Linear Cost: 0.9186 RBF Cost: 0.9831 Polynomial Cost: 0.4875 Sigmoid Cost: 0.4915\n",
      "Epoch:  700/1000 Linear Cost: 0.7260 RBF Cost: 0.9804 Polynomial Cost: 0.4875 Sigmoid Cost: 0.4914\n",
      "Epoch:  800/1000 Linear Cost: 0.6193 RBF Cost: 0.9778 Polynomial Cost: 0.4875 Sigmoid Cost: 0.4914\n",
      "Epoch:  900/1000 Linear Cost: 0.5721 RBF Cost: 0.9751 Polynomial Cost: 0.4875 Sigmoid Cost: 0.4914\n",
      "Epoch: 1000/1000 Linear Cost: 0.5490 RBF Cost: 0.9724 Polynomial Cost: 0.4875 Sigmoid Cost: 0.4914\n"
     ]
    }
   ],
   "source": [
    "X_TENSOR_TRAIN, X_TENSOR_TEST, Y_TENSOR_TRAIN, Y_TENSOR_TEST = data.get_tensor_data()\n",
    "svm.train_model(X_TENSOR_TRAIN, Y_TENSOR_TRAIN, X_TENSOR_TEST, Y_TENSOR_TEST, LEARN_RATE, NUMBER_OF_EPOCHS)"
   ]
  }
 ],
 "metadata": {
  "kernelspec": {
   "display_name": "Python 3",
   "language": "python",
   "name": "python3"
  },
  "language_info": {
   "codemirror_mode": {
    "name": "ipython",
    "version": 3
   },
   "file_extension": ".py",
   "mimetype": "text/x-python",
   "name": "python",
   "nbconvert_exporter": "python",
   "pygments_lexer": "ipython3",
   "version": "3.12.4"
  }
 },
 "nbformat": 4,
 "nbformat_minor": 2
}
