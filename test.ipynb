{
 "cells": [
  {
   "cell_type": "code", 
   "execution_count": 1,
   "metadata": {},      
   "outputs": [],       
   "source": [
    "import os"
   ]
  },
  {
   "cell_type": "markdown",
   "metadata": {},
   "source": [
    "### **Linear Regression**"
   ]
  },
  {
   "cell_type": "code",
   "execution_count": 2,
   "metadata": {},
   "outputs": [],
   "source": [
    "import linear_regression\n",
    "\n",
    "linear_regression_data_path = os.path.join('custom_data', 'linear_regression_data.csv')\n",
    "data = linear_regression.LinearRegressionData(linear_regression_data_path)\n",
    "\n",
    "LEARN_RATE, BATCH_SIZE, NUMBER_OF_EPOCHS = data.get_parameters()"
   ]
  },
  {
   "cell_type": "code",
   "execution_count": 3,
   "metadata": {},
   "outputs": [
    {
     "name": "stdout",
     "output_type": "stream",
     "text": [
      "Epoch:    0/1000 Weight: 0.737, Bias: 0.015 Cost: 1484.586557\n",
      "Epoch:  100/1000 Weight: 1.479, Bias: 0.035 Cost: 112.647021\n",
      "Epoch:  200/1000 Weight: 1.479, Bias: 0.041 Cost: 112.643416\n",
      "Epoch:  300/1000 Weight: 1.479, Bias: 0.047 Cost: 112.639817\n",
      "Epoch:  400/1000 Weight: 1.478, Bias: 0.053 Cost: 112.636223\n",
      "Epoch:  500/1000 Weight: 1.478, Bias: 0.059 Cost: 112.632635\n",
      "Epoch:  600/1000 Weight: 1.478, Bias: 0.065 Cost: 112.629052\n",
      "Epoch:  700/1000 Weight: 1.478, Bias: 0.071 Cost: 112.625475\n",
      "Epoch:  800/1000 Weight: 1.478, Bias: 0.077 Cost: 112.621903\n",
      "Epoch:  900/1000 Weight: 1.478, Bias: 0.083 Cost: 112.618336\n",
      "Epoch: 1000/1000 Weight: 1.478, Bias: 0.089 Cost: 112.614775\n"
     ]
    }
   ],
   "source": [
    "X_NUMPY_TRAIN, Y_NUMPY_TRAIN = data.get_numpy_data()\n",
    "linear_regression.train_model_scratch(X_NUMPY_TRAIN, Y_NUMPY_TRAIN, LEARN_RATE, BATCH_SIZE, NUMBER_OF_EPOCHS)"
   ]
  },
  {
   "cell_type": "code",
   "execution_count": 4,
   "metadata": {},
   "outputs": [
    {
     "name": "stdout",
     "output_type": "stream",
     "text": [
      "Epoch:    0/1000 Weight: 0.318, Bias: 0.005 Cost: 13473.922852\n",
      "Epoch:  100/1000 Weight: 1.479, Bias: 0.034 Cost: 112.647820\n",
      "Epoch:  200/1000 Weight: 1.479, Bias: 0.040 Cost: 112.644218\n",
      "Epoch:  300/1000 Weight: 1.479, Bias: 0.046 Cost: 112.640617\n",
      "Epoch:  400/1000 Weight: 1.478, Bias: 0.052 Cost: 112.637032\n",
      "Epoch:  500/1000 Weight: 1.478, Bias: 0.058 Cost: 112.633446\n",
      "Epoch:  600/1000 Weight: 1.478, Bias: 0.064 Cost: 112.629852\n",
      "Epoch:  700/1000 Weight: 1.478, Bias: 0.070 Cost: 112.626282\n",
      "Epoch:  800/1000 Weight: 1.478, Bias: 0.076 Cost: 112.622696\n",
      "Epoch:  900/1000 Weight: 1.478, Bias: 0.082 Cost: 112.619133\n",
      "Epoch: 1000/1000 Weight: 1.478, Bias: 0.088 Cost: 112.615585\n"
     ]
    }
   ],
   "source": [
    "X_TENSOR_TRAIN, Y_TENSOR_TRAIN = data.get_tensor_data()\n",
    "linear_regression.train_model_pytorch(X_TENSOR_TRAIN, Y_TENSOR_TRAIN, LEARN_RATE, NUMBER_OF_EPOCHS)"
   ]
  },
  {
   "cell_type": "markdown",
   "metadata": {},
   "source": [
    "### **Logistic Regression**"
   ]
  },
  {
   "cell_type": "code",
   "execution_count": 5,
   "metadata": {},
   "outputs": [],
   "source": [
    "import logistic_regression\n",
    "\n",
    "logistic_regression_data_path = os.path.join('custom_data', 'logistic_regression_data.csv')\n",
    "data = logistic_regression.LogisticRegressionData(logistic_regression_data_path)\n",
    "\n",
    "LEARN_RATE, NUMBER_OF_EPOCHS = data.get_parameters()"
   ]
  },
  {
   "cell_type": "code",
   "execution_count": 6,
   "metadata": {},
   "outputs": [
    {
     "name": "stdout",
     "output_type": "stream",
     "text": [
      "Epoch:    0/1000 Cost: 0.693017 Accuracy: 63.00%\n",
      "Epoch:  100/1000 Cost: 0.681011 Accuracy: 64.00%\n",
      "Epoch:  200/1000 Cost: 0.670672 Accuracy: 67.00%\n",
      "Epoch:  300/1000 Cost: 0.661693 Accuracy: 68.00%\n",
      "Epoch:  400/1000 Cost: 0.653824 Accuracy: 76.00%\n",
      "Epoch:  500/1000 Cost: 0.646861 Accuracy: 79.00%\n",
      "Epoch:  600/1000 Cost: 0.640637 Accuracy: 84.00%\n",
      "Epoch:  700/1000 Cost: 0.635020 Accuracy: 84.00%\n",
      "Epoch:  800/1000 Cost: 0.629901 Accuracy: 85.00%\n",
      "Epoch:  900/1000 Cost: 0.625193 Accuracy: 87.00%\n",
      "Epoch: 1000/1000 Cost: 0.620824 Accuracy: 89.00%\n"
     ]
    }
   ],
   "source": [
    "X_NUMPY_TRAIN, X_NUMPY_TEST, Y_NUMPY_TRAIN, Y_NUMPY_TEST = data.get_numpy_data()\n",
    "logistic_regression.train_model_scratch(X_NUMPY_TRAIN, Y_NUMPY_TRAIN, X_NUMPY_TEST, Y_NUMPY_TEST, LEARN_RATE, NUMBER_OF_EPOCHS)"
   ]
  },
  {
   "cell_type": "code",
   "execution_count": 7,
   "metadata": {},
   "outputs": [
    {
     "name": "stdout",
     "output_type": "stream",
     "text": [
      "Epoch:    0/1000 Cost: 0.790440 Accuracy: 46.00%\n",
      "Epoch:  100/1000 Cost: 0.759779 Accuracy: 46.00%\n",
      "Epoch:  200/1000 Cost: 0.733992 Accuracy: 46.00%\n",
      "Epoch:  300/1000 Cost: 0.712321 Accuracy: 46.00%\n",
      "Epoch:  400/1000 Cost: 0.694082 Accuracy: 46.00%\n",
      "Epoch:  500/1000 Cost: 0.678679 Accuracy: 53.00%\n",
      "Epoch:  600/1000 Cost: 0.665603 Accuracy: 97.00%\n",
      "Epoch:  700/1000 Cost: 0.654429 Accuracy: 94.00%\n",
      "Epoch:  800/1000 Cost: 0.644806 Accuracy: 86.00%\n",
      "Epoch:  900/1000 Cost: 0.636447 Accuracy: 82.00%\n",
      "Epoch: 1000/1000 Cost: 0.629117 Accuracy: 81.00%\n"
     ]
    }
   ],
   "source": [
    "X_TENSOR_TRAIN, X_TENSOR_TEST, Y_TENSOR_TRAIN, Y_TENSOR_TEST = data.get_tensor_data()\n",
    "logistic_regression.train_model_pytorch(X_TENSOR_TRAIN, Y_TENSOR_TRAIN, X_TENSOR_TEST, Y_TENSOR_TEST, LEARN_RATE, NUMBER_OF_EPOCHS)"
   ]
  }
 ],
 "metadata": {
  "kernelspec": {
   "display_name": "Python 3",
   "language": "python",
   "name": "python3"
  },
  "language_info": {
   "codemirror_mode": {
    "name": "ipython",
    "version": 3
   },
   "file_extension": ".py",
   "mimetype": "text/x-python",
   "name": "python",
   "nbconvert_exporter": "python",
   "pygments_lexer": "ipython3",
   "version": "3.12.4"
  }
 },
 "nbformat": 4,
 "nbformat_minor": 2
}
