{
 "cells": [
  {
   "cell_type": "markdown",
   "metadata": {},
   "source": [
    "### **Linear Regression**"
   ]
  },
  {
   "cell_type": "code",
   "execution_count": 1,
   "metadata": {},
   "outputs": [],
   "source": [
    "import os\n",
    "import numpy as np\n",
    "import torch\n",
    "\n",
    "from linear_regression import *"
   ]
  },
  {
   "cell_type": "code",
   "execution_count": 2,
   "metadata": {},
   "outputs": [],
   "source": [
    "csv_path = os.path.join('custom_data', 'linear_regression_data.csv')\n",
    "NUMPY_DATA = np.genfromtxt(csv_path, delimiter = ',')\n",
    "\n",
    "X_NUMPY_TRAIN = NUMPY_DATA[:, 0]\n",
    "Y_NUMPY_TRAIN = NUMPY_DATA[:, 1]\n",
    "\n",
    "X_TENSOR_TRAIN = torch.FloatTensor(X_NUMPY_TRAIN).unsqueeze(1)\n",
    "Y_TENSOR_TRAIN = torch.FloatTensor(Y_NUMPY_TRAIN).unsqueeze(1)\n",
    "\n",
    "NUMBER_OF_EPOCHS = 1000\n",
    "LEARN_RATE = 0.0001\n",
    "BATCH_SIZE = len(X_NUMPY_TRAIN)"
   ]
  },
  {
   "cell_type": "code",
   "execution_count": 3,
   "metadata": {},
   "outputs": [
    {
     "name": "stdout",
     "output_type": "stream",
     "text": [
      "Epoch:    0/1000 m: 0.737, b: 0.015 Cost: 1484.586557\n",
      "Epoch:  100/1000 m: 1.479, b: 0.035 Cost: 112.647021\n",
      "Epoch:  200/1000 m: 1.479, b: 0.041 Cost: 112.643416\n",
      "Epoch:  300/1000 m: 1.479, b: 0.047 Cost: 112.639817\n",
      "Epoch:  400/1000 m: 1.478, b: 0.053 Cost: 112.636223\n",
      "Epoch:  500/1000 m: 1.478, b: 0.059 Cost: 112.632635\n",
      "Epoch:  600/1000 m: 1.478, b: 0.065 Cost: 112.629052\n",
      "Epoch:  700/1000 m: 1.478, b: 0.071 Cost: 112.625475\n",
      "Epoch:  800/1000 m: 1.478, b: 0.077 Cost: 112.621903\n",
      "Epoch:  900/1000 m: 1.478, b: 0.083 Cost: 112.618336\n",
      "Epoch: 1000/1000 m: 1.478, b: 0.089 Cost: 112.614775\n"
     ]
    }
   ],
   "source": [
    "train_model_scratch(X_NUMPY_TRAIN, Y_NUMPY_TRAIN, LEARN_RATE, NUMBER_OF_EPOCHS, BATCH_SIZE)"
   ]
  },
  {
   "cell_type": "code",
   "execution_count": 4,
   "metadata": {},
   "outputs": [
    {
     "name": "stdout",
     "output_type": "stream",
     "text": [
      "Epoch:    0/1000 m: 0.318, b: 0.005 Cost: 13473.922852\n",
      "Epoch:  100/1000 m: 1.479, b: 0.034 Cost: 112.647820\n",
      "Epoch:  200/1000 m: 1.479, b: 0.040 Cost: 112.644218\n",
      "Epoch:  300/1000 m: 1.479, b: 0.046 Cost: 112.640617\n",
      "Epoch:  400/1000 m: 1.478, b: 0.052 Cost: 112.637032\n",
      "Epoch:  500/1000 m: 1.478, b: 0.058 Cost: 112.633446\n",
      "Epoch:  600/1000 m: 1.478, b: 0.064 Cost: 112.629852\n",
      "Epoch:  700/1000 m: 1.478, b: 0.070 Cost: 112.626282\n",
      "Epoch:  800/1000 m: 1.478, b: 0.076 Cost: 112.622696\n",
      "Epoch:  900/1000 m: 1.478, b: 0.082 Cost: 112.619133\n",
      "Epoch: 1000/1000 m: 1.478, b: 0.088 Cost: 112.615585\n"
     ]
    }
   ],
   "source": [
    "train_model_pytorch(X_TENSOR_TRAIN, Y_TENSOR_TRAIN, NUMBER_OF_EPOCHS, LEARN_RATE)"
   ]
  }
 ],
 "metadata": {
  "kernelspec": {
   "display_name": "Python 3",
   "language": "python",
   "name": "python3"
  },
  "language_info": {
   "codemirror_mode": {
    "name": "ipython",
    "version": 3
   },
   "file_extension": ".py",
   "mimetype": "text/x-python",
   "name": "python",
   "nbconvert_exporter": "python",
   "pygments_lexer": "ipython3",
   "version": "3.12.4"
  }
 },
 "nbformat": 4,
 "nbformat_minor": 2
}
